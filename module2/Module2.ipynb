{
 "cells": [
  {
   "cell_type": "code",
   "execution_count": 21,
   "metadata": {},
   "outputs": [],
   "source": [
    "import datashader as ds\n",
    "import datashader.transfer_functions as tf\n",
    "import datashader.glyphs\n",
    "from datashader import reductions\n",
    "from datashader.core import bypixel\n",
    "from datashader.utils import lnglat_to_meters as webm, export_image\n",
    "from datashader.colors import colormap_select, Greys9, viridis, inferno\n",
    "import copy\n",
    "\n",
    "from pyproj import Proj, transform\n",
    "import numpy as np\n",
    "import pandas as pd\n",
    "import urllib\n",
    "import json\n",
    "import datetime\n",
    "import colorlover as cl\n",
    "\n",
    "import plotly.plotly as py\n",
    "import plotly.graph_objs as go\n",
    "from plotly import tools\n",
    "\n",
    "from shapely.geometry import Point, Polygon, shape\n",
    "# In order to get shapley, you'll need to run [pip install shapely.geometry] from your terminal\n",
    "\n",
    "from functools import partial\n",
    "\n",
    "from IPython.display import GeoJSON"
   ]
  },
  {
   "cell_type": "code",
   "execution_count": 22,
   "metadata": {},
   "outputs": [
    {
     "ename": "FileNotFoundError",
     "evalue": "[Errno 2] No such file or directory: 'plotlycreds.json'",
     "traceback": [
      "\u001b[1;31m---------------------------------------------------------------------------\u001b[0m",
      "\u001b[1;31mFileNotFoundError\u001b[0m                         Traceback (most recent call last)",
      "\u001b[1;32m<ipython-input-22-c2d7895c69c4>\u001b[0m in \u001b[0;36m<module>\u001b[1;34m\u001b[0m\n\u001b[1;32m----> 1\u001b[1;33m \u001b[1;32mwith\u001b[0m \u001b[0mopen\u001b[0m\u001b[1;33m(\u001b[0m\u001b[1;34m'plotlycreds.json'\u001b[0m\u001b[1;33m)\u001b[0m \u001b[1;32mas\u001b[0m \u001b[0mf\u001b[0m\u001b[1;33m:\u001b[0m\u001b[1;33m\u001b[0m\u001b[1;33m\u001b[0m\u001b[0m\n\u001b[0m\u001b[0;32m      2\u001b[0m     \u001b[0mcreds\u001b[0m \u001b[1;33m=\u001b[0m \u001b[0mjson\u001b[0m\u001b[1;33m.\u001b[0m\u001b[0mload\u001b[0m\u001b[1;33m(\u001b[0m\u001b[0mf\u001b[0m\u001b[1;33m)\u001b[0m\u001b[1;33m\u001b[0m\u001b[1;33m\u001b[0m\u001b[0m\n\u001b[0;32m      3\u001b[0m \u001b[1;33m\u001b[0m\u001b[0m\n\u001b[0;32m      4\u001b[0m \u001b[0mtools\u001b[0m\u001b[1;33m.\u001b[0m\u001b[0mset_credentials_file\u001b[0m\u001b[1;33m(\u001b[0m\u001b[1;33m**\u001b[0m\u001b[0mcreds\u001b[0m\u001b[1;33m)\u001b[0m\u001b[1;33m\u001b[0m\u001b[1;33m\u001b[0m\u001b[0m\n",
      "\u001b[1;31mFileNotFoundError\u001b[0m: [Errno 2] No such file or directory: 'plotlycreds.json'"
     ],
     "output_type": "error"
    }
   ],
   "source": [
    "with open('plotlycreds.json') as f:\n",
    "    creds = json.load(f)\n",
    "    \n",
    "tools.set_credentials_file(**creds)"
   ]
  },
  {
   "cell_type": "markdown",
   "metadata": {},
   "source": [
    "For module 2 we'll be looking at techniques for dealing with big data. In particular binning strategies and the datashader library (which possibly proves we'll never need to bin large data for visualization ever again.)\n",
    "\n",
    "To demonstrate these concepts we'll be looking at the PLUTO dataset put out by New York City's department of city planning. PLUTO contains data about every tax lot in New York City.\n",
    "\n",
    "PLUTO data can be downloaded from [here](https://www1.nyc.gov/site/planning/data-maps/open-data/dwn-pluto-mappluto.page). Unzip them to the same directory as this notebook, and you should be able to read them in using this (or very similar) code. Also take note of the data dictionary, it'll come in handy for this assignment."
   ]
  },
  {
   "cell_type": "code",
   "execution_count": 23,
   "metadata": {},
   "outputs": [
    {
     "ename": "FileNotFoundError",
     "evalue": "File b'pluto/BK2017V11.csv' does not exist",
     "traceback": [
      "\u001b[1;31m---------------------------------------------------------------------------\u001b[0m",
      "\u001b[1;31mFileNotFoundError\u001b[0m                         Traceback (most recent call last)",
      "\u001b[1;32m<ipython-input-23-a37d8aaf23e8>\u001b[0m in \u001b[0;36m<module>\u001b[1;34m\u001b[0m\n\u001b[1;32m----> 1\u001b[1;33m \u001b[0mbk\u001b[0m \u001b[1;33m=\u001b[0m \u001b[0mpd\u001b[0m\u001b[1;33m.\u001b[0m\u001b[0mread_csv\u001b[0m\u001b[1;33m(\u001b[0m\u001b[1;34m'pluto/BK2017V11.csv'\u001b[0m\u001b[1;33m)\u001b[0m\u001b[1;33m\u001b[0m\u001b[1;33m\u001b[0m\u001b[0m\n\u001b[0m\u001b[0;32m      2\u001b[0m \u001b[0mbx\u001b[0m \u001b[1;33m=\u001b[0m \u001b[0mpd\u001b[0m\u001b[1;33m.\u001b[0m\u001b[0mread_csv\u001b[0m\u001b[1;33m(\u001b[0m\u001b[1;34m'pluto/BX2017V11.csv'\u001b[0m\u001b[1;33m)\u001b[0m\u001b[1;33m\u001b[0m\u001b[1;33m\u001b[0m\u001b[0m\n\u001b[0;32m      3\u001b[0m \u001b[0mmn\u001b[0m \u001b[1;33m=\u001b[0m \u001b[0mpd\u001b[0m\u001b[1;33m.\u001b[0m\u001b[0mread_csv\u001b[0m\u001b[1;33m(\u001b[0m\u001b[1;34m'pluto/MN2017V11.csv'\u001b[0m\u001b[1;33m)\u001b[0m\u001b[1;33m\u001b[0m\u001b[1;33m\u001b[0m\u001b[0m\n\u001b[0;32m      4\u001b[0m \u001b[0mqn\u001b[0m \u001b[1;33m=\u001b[0m \u001b[0mpd\u001b[0m\u001b[1;33m.\u001b[0m\u001b[0mread_csv\u001b[0m\u001b[1;33m(\u001b[0m\u001b[1;34m'pluto/QN2017V11.csv'\u001b[0m\u001b[1;33m)\u001b[0m\u001b[1;33m\u001b[0m\u001b[1;33m\u001b[0m\u001b[0m\n\u001b[0;32m      5\u001b[0m \u001b[0msi\u001b[0m \u001b[1;33m=\u001b[0m \u001b[0mpd\u001b[0m\u001b[1;33m.\u001b[0m\u001b[0mread_csv\u001b[0m\u001b[1;33m(\u001b[0m\u001b[1;34m'pluto/SI2017V11.csv'\u001b[0m\u001b[1;33m)\u001b[0m\u001b[1;33m\u001b[0m\u001b[1;33m\u001b[0m\u001b[0m\n",
      "\u001b[1;32mC:\\ProgramData\\Anaconda3\\lib\\site-packages\\pandas\\io\\parsers.py\u001b[0m in \u001b[0;36mparser_f\u001b[1;34m(filepath_or_buffer, sep, delimiter, header, names, index_col, usecols, squeeze, prefix, mangle_dupe_cols, dtype, engine, converters, true_values, false_values, skipinitialspace, skiprows, nrows, na_values, keep_default_na, na_filter, verbose, skip_blank_lines, parse_dates, infer_datetime_format, keep_date_col, date_parser, dayfirst, iterator, chunksize, compression, thousands, decimal, lineterminator, quotechar, quoting, escapechar, comment, encoding, dialect, tupleize_cols, error_bad_lines, warn_bad_lines, skipfooter, doublequote, delim_whitespace, low_memory, memory_map, float_precision)\u001b[0m\n\u001b[0;32m    676\u001b[0m                     skip_blank_lines=skip_blank_lines)\n\u001b[0;32m    677\u001b[0m \u001b[1;33m\u001b[0m\u001b[0m\n\u001b[1;32m--> 678\u001b[1;33m         \u001b[1;32mreturn\u001b[0m \u001b[0m_read\u001b[0m\u001b[1;33m(\u001b[0m\u001b[0mfilepath_or_buffer\u001b[0m\u001b[1;33m,\u001b[0m \u001b[0mkwds\u001b[0m\u001b[1;33m)\u001b[0m\u001b[1;33m\u001b[0m\u001b[1;33m\u001b[0m\u001b[0m\n\u001b[0m\u001b[0;32m    679\u001b[0m \u001b[1;33m\u001b[0m\u001b[0m\n\u001b[0;32m    680\u001b[0m     \u001b[0mparser_f\u001b[0m\u001b[1;33m.\u001b[0m\u001b[0m__name__\u001b[0m \u001b[1;33m=\u001b[0m \u001b[0mname\u001b[0m\u001b[1;33m\u001b[0m\u001b[1;33m\u001b[0m\u001b[0m\n",
      "\u001b[1;32mC:\\ProgramData\\Anaconda3\\lib\\site-packages\\pandas\\io\\parsers.py\u001b[0m in \u001b[0;36m_read\u001b[1;34m(filepath_or_buffer, kwds)\u001b[0m\n\u001b[0;32m    438\u001b[0m \u001b[1;33m\u001b[0m\u001b[0m\n\u001b[0;32m    439\u001b[0m     \u001b[1;31m# Create the parser.\u001b[0m\u001b[1;33m\u001b[0m\u001b[1;33m\u001b[0m\u001b[1;33m\u001b[0m\u001b[0m\n\u001b[1;32m--> 440\u001b[1;33m     \u001b[0mparser\u001b[0m \u001b[1;33m=\u001b[0m \u001b[0mTextFileReader\u001b[0m\u001b[1;33m(\u001b[0m\u001b[0mfilepath_or_buffer\u001b[0m\u001b[1;33m,\u001b[0m \u001b[1;33m**\u001b[0m\u001b[0mkwds\u001b[0m\u001b[1;33m)\u001b[0m\u001b[1;33m\u001b[0m\u001b[1;33m\u001b[0m\u001b[0m\n\u001b[0m\u001b[0;32m    441\u001b[0m \u001b[1;33m\u001b[0m\u001b[0m\n\u001b[0;32m    442\u001b[0m     \u001b[1;32mif\u001b[0m \u001b[0mchunksize\u001b[0m \u001b[1;32mor\u001b[0m \u001b[0miterator\u001b[0m\u001b[1;33m:\u001b[0m\u001b[1;33m\u001b[0m\u001b[1;33m\u001b[0m\u001b[0m\n",
      "\u001b[1;32mC:\\ProgramData\\Anaconda3\\lib\\site-packages\\pandas\\io\\parsers.py\u001b[0m in \u001b[0;36m__init__\u001b[1;34m(self, f, engine, **kwds)\u001b[0m\n\u001b[0;32m    785\u001b[0m             \u001b[0mself\u001b[0m\u001b[1;33m.\u001b[0m\u001b[0moptions\u001b[0m\u001b[1;33m[\u001b[0m\u001b[1;34m'has_index_names'\u001b[0m\u001b[1;33m]\u001b[0m \u001b[1;33m=\u001b[0m \u001b[0mkwds\u001b[0m\u001b[1;33m[\u001b[0m\u001b[1;34m'has_index_names'\u001b[0m\u001b[1;33m]\u001b[0m\u001b[1;33m\u001b[0m\u001b[1;33m\u001b[0m\u001b[0m\n\u001b[0;32m    786\u001b[0m \u001b[1;33m\u001b[0m\u001b[0m\n\u001b[1;32m--> 787\u001b[1;33m         \u001b[0mself\u001b[0m\u001b[1;33m.\u001b[0m\u001b[0m_make_engine\u001b[0m\u001b[1;33m(\u001b[0m\u001b[0mself\u001b[0m\u001b[1;33m.\u001b[0m\u001b[0mengine\u001b[0m\u001b[1;33m)\u001b[0m\u001b[1;33m\u001b[0m\u001b[1;33m\u001b[0m\u001b[0m\n\u001b[0m\u001b[0;32m    788\u001b[0m \u001b[1;33m\u001b[0m\u001b[0m\n\u001b[0;32m    789\u001b[0m     \u001b[1;32mdef\u001b[0m \u001b[0mclose\u001b[0m\u001b[1;33m(\u001b[0m\u001b[0mself\u001b[0m\u001b[1;33m)\u001b[0m\u001b[1;33m:\u001b[0m\u001b[1;33m\u001b[0m\u001b[1;33m\u001b[0m\u001b[0m\n",
      "\u001b[1;32mC:\\ProgramData\\Anaconda3\\lib\\site-packages\\pandas\\io\\parsers.py\u001b[0m in \u001b[0;36m_make_engine\u001b[1;34m(self, engine)\u001b[0m\n\u001b[0;32m   1012\u001b[0m     \u001b[1;32mdef\u001b[0m \u001b[0m_make_engine\u001b[0m\u001b[1;33m(\u001b[0m\u001b[0mself\u001b[0m\u001b[1;33m,\u001b[0m \u001b[0mengine\u001b[0m\u001b[1;33m=\u001b[0m\u001b[1;34m'c'\u001b[0m\u001b[1;33m)\u001b[0m\u001b[1;33m:\u001b[0m\u001b[1;33m\u001b[0m\u001b[1;33m\u001b[0m\u001b[0m\n\u001b[0;32m   1013\u001b[0m         \u001b[1;32mif\u001b[0m \u001b[0mengine\u001b[0m \u001b[1;33m==\u001b[0m \u001b[1;34m'c'\u001b[0m\u001b[1;33m:\u001b[0m\u001b[1;33m\u001b[0m\u001b[1;33m\u001b[0m\u001b[0m\n\u001b[1;32m-> 1014\u001b[1;33m             \u001b[0mself\u001b[0m\u001b[1;33m.\u001b[0m\u001b[0m_engine\u001b[0m \u001b[1;33m=\u001b[0m \u001b[0mCParserWrapper\u001b[0m\u001b[1;33m(\u001b[0m\u001b[0mself\u001b[0m\u001b[1;33m.\u001b[0m\u001b[0mf\u001b[0m\u001b[1;33m,\u001b[0m \u001b[1;33m**\u001b[0m\u001b[0mself\u001b[0m\u001b[1;33m.\u001b[0m\u001b[0moptions\u001b[0m\u001b[1;33m)\u001b[0m\u001b[1;33m\u001b[0m\u001b[1;33m\u001b[0m\u001b[0m\n\u001b[0m\u001b[0;32m   1015\u001b[0m         \u001b[1;32melse\u001b[0m\u001b[1;33m:\u001b[0m\u001b[1;33m\u001b[0m\u001b[1;33m\u001b[0m\u001b[0m\n\u001b[0;32m   1016\u001b[0m             \u001b[1;32mif\u001b[0m \u001b[0mengine\u001b[0m \u001b[1;33m==\u001b[0m \u001b[1;34m'python'\u001b[0m\u001b[1;33m:\u001b[0m\u001b[1;33m\u001b[0m\u001b[1;33m\u001b[0m\u001b[0m\n",
      "\u001b[1;32mC:\\ProgramData\\Anaconda3\\lib\\site-packages\\pandas\\io\\parsers.py\u001b[0m in \u001b[0;36m__init__\u001b[1;34m(self, src, **kwds)\u001b[0m\n\u001b[0;32m   1706\u001b[0m         \u001b[0mkwds\u001b[0m\u001b[1;33m[\u001b[0m\u001b[1;34m'usecols'\u001b[0m\u001b[1;33m]\u001b[0m \u001b[1;33m=\u001b[0m \u001b[0mself\u001b[0m\u001b[1;33m.\u001b[0m\u001b[0musecols\u001b[0m\u001b[1;33m\u001b[0m\u001b[1;33m\u001b[0m\u001b[0m\n\u001b[0;32m   1707\u001b[0m \u001b[1;33m\u001b[0m\u001b[0m\n\u001b[1;32m-> 1708\u001b[1;33m         \u001b[0mself\u001b[0m\u001b[1;33m.\u001b[0m\u001b[0m_reader\u001b[0m \u001b[1;33m=\u001b[0m \u001b[0mparsers\u001b[0m\u001b[1;33m.\u001b[0m\u001b[0mTextReader\u001b[0m\u001b[1;33m(\u001b[0m\u001b[0msrc\u001b[0m\u001b[1;33m,\u001b[0m \u001b[1;33m**\u001b[0m\u001b[0mkwds\u001b[0m\u001b[1;33m)\u001b[0m\u001b[1;33m\u001b[0m\u001b[1;33m\u001b[0m\u001b[0m\n\u001b[0m\u001b[0;32m   1709\u001b[0m \u001b[1;33m\u001b[0m\u001b[0m\n\u001b[0;32m   1710\u001b[0m         \u001b[0mpassed_names\u001b[0m \u001b[1;33m=\u001b[0m \u001b[0mself\u001b[0m\u001b[1;33m.\u001b[0m\u001b[0mnames\u001b[0m \u001b[1;32mis\u001b[0m \u001b[1;32mNone\u001b[0m\u001b[1;33m\u001b[0m\u001b[1;33m\u001b[0m\u001b[0m\n",
      "\u001b[1;32mpandas\\_libs\\parsers.pyx\u001b[0m in \u001b[0;36mpandas._libs.parsers.TextReader.__cinit__\u001b[1;34m()\u001b[0m\n",
      "\u001b[1;32mpandas\\_libs\\parsers.pyx\u001b[0m in \u001b[0;36mpandas._libs.parsers.TextReader._setup_parser_source\u001b[1;34m()\u001b[0m\n",
      "\u001b[1;31mFileNotFoundError\u001b[0m: File b'pluto/BK2017V11.csv' does not exist"
     ],
     "output_type": "error"
    }
   ],
   "source": [
    "bk = pd.read_csv('pluto/BK2017V11.csv')\n",
    "bx = pd.read_csv('pluto/BX2017V11.csv')\n",
    "mn = pd.read_csv('pluto/MN2017V11.csv')\n",
    "qn = pd.read_csv('pluto/QN2017V11.csv')\n",
    "si = pd.read_csv('pluto/SI2017V11.csv')\n",
    "\n",
    "ny = pd.concat([bk, bx, mn, qn, si], ignore_index=True)\n",
    "\n",
    "# Getting rid of some outliers\n",
    "ny = ny[(ny['YearBuilt'] > 1850) & (ny['YearBuilt'] < 2020) & (ny['NumFloors'] != 0)]"
   ]
  },
  {
   "cell_type": "markdown",
   "metadata": {},
   "source": [
    "I'll also do some prep for the geographic component of this data, which we'll be relying on for datashader.\n",
    "\n",
    "You're not required to know how I'm retrieving the lattitude and longitude here, but for those interested: this dataset uses a flat x-y projection (assuming for a small enough area that the world is flat for easier calculations), and this needs to be projected back to traditional lattitude and longitude."
   ]
  },
  {
   "cell_type": "code",
   "execution_count": 24,
   "metadata": {},
   "outputs": [],
   "source": [
    "\n",
    "\n",
    "wgs84 = Proj(\"+proj=longlat +ellps=GRS80 +datum=NAD83 +no_defs\")\n",
    "nyli = Proj(\"+proj=lcc +lat_1=40.66666666666666 +lat_2=41.03333333333333 +lat_0=40.16666666666666 +lon_0=-74 +x_0=300000 +y_0=0 +ellps=GRS80 +datum=NAD83 +to_meter=0.3048006096012192 +no_defs\")\n",
    "ny['XCoord'] = 0.3048*ny['XCoord']\n",
    "ny['YCoord'] = 0.3048*ny['YCoord']\n",
    "ny['lon'], ny['lat'] = transform(nyli, wgs84, ny['XCoord'].values, ny['YCoord'].values)\n",
    "\n",
    "ny = ny[(ny['lon'] < -60) & (ny['lon'] > -100) & (ny['lat'] < 60) & (ny['lat'] > 20)]\n",
    "\n",
    "#Defining some helper functions for DataShader\n",
    "background = \"black\"\n",
    "export = partial(export_image, background = background, export_path=\"export\")\n",
    "cm = partial(colormap_select, reverse=(background!=\"black\"))"
   ]
  },
  {
   "cell_type": "markdown",
   "metadata": {},
   "source": [
    "## Part 1: Binning and Aggregation\n",
    "\n",
    "Binning is a common strategy for visualizing large datasets. Binning is inherent to a few types of visualizations, such as histograms and [2D histograms](https://plot.ly/python/2D-Histogram/) (also check out their close relatives: [2D density plots](https://plot.ly/python/2d-density-plots/) and the more general form: [heatmaps](https://plot.ly/python/heatmaps/).\n",
    "\n",
    "While these visualization types explicitly include binning, any type of visualization used with aggregated data can be looked at in the same way. For example, lets say we wanted to look at building construction over time. This would be best viewed as a line graph, but we can still think of our results as being binned by year:"
   ]
  },
  {
   "cell_type": "code",
   "execution_count": 25,
   "metadata": {},
   "outputs": [
    {
     "name": "stderr",
     "output_type": "stream",
     "text": [
      "C:\\ProgramData\\Anaconda3\\lib\\site-packages\\IPython\\core\\display.py:689: UserWarning:\n\nConsider using IPython.display.IFrame instead\n\n"
     ]
    },
    {
     "data": {
      "text/html": [
       "<iframe id=\"igraph\" scrolling=\"no\" style=\"border:none;\" seamless=\"seamless\" src=\"https://plot.ly/~Learnning/2.embed\" height=\"525px\" width=\"100%\"></iframe>"
      ],
      "text/plain": [
       "<iframe id=\"igraph\" scrolling=\"no\" style=\"border:none;\" seamless=\"seamless\" src=\"https://plot.ly/~Learnning/2.embed\" height=\"525px\" width=\"100%\"></iframe>"
      ]
     },
     "execution_count": 25,
     "metadata": {},
     "output_type": "execute_result"
    }
   ],
   "source": [
    "trace = go.Scatter(\n",
    "    # I'm choosing BBL here because I know it's a unique key.\n",
    "    x = ny.groupby('YearBuilt').count()['BBL'].index,\n",
    "    y = ny.groupby('YearBuilt').count()['BBL']\n",
    ")\n",
    "\n",
    "layout = go.Layout(\n",
    "    xaxis = dict(title = 'Year Built'),\n",
    "    yaxis = dict(title = 'Number of Lots Built')\n",
    ")\n",
    "\n",
    "fig = go.Figure(data = [trace], layout = layout)\n",
    "\n",
    "py.iplot(fig, filename = 'ny-year-built')"
   ]
  },
  {
   "cell_type": "markdown",
   "metadata": {},
   "source": [
    "Something looks off... You're going to have to deal with this imperfect data to answer this first question. \n",
    "\n",
    "But first: some notes on pandas. Pandas dataframes are a different beast than R dataframes, here are some tips to help you get up to speed:\n",
    "\n",
    "---\n",
    "\n",
    "Hello all, here are some pandas tips to help you guys through this homework:\n",
    "\n",
    "[Indexing and Selecting](https://pandas.pydata.org/pandas-docs/stable/indexing.html): .loc and .iloc are the analogs for base R subsetting, or filter() in dplyr\n",
    "\n",
    "[Group By](https://pandas.pydata.org/pandas-docs/stable/groupby.html):  This is the pandas analog to group_by() and the appended function the analog to summarize(). Try out a few examples of this, and display the results in Jupyter. Take note of what's happening to the indexes, you'll notice that they'll become hierarchical. I personally find this more of a burden than a help, and this sort of hierarchical indexing leads to a fundamentally different experience compared to R dataframes. Once you perform an aggregation, try running the resulting hierarchical datafrome through a [reset_index()](https://pandas.pydata.org/pandas-docs/stable/generated/pandas.DataFrame.reset_index.html).\n",
    "\n",
    "[Reset_index](https://pandas.pydata.org/pandas-docs/stable/generated/pandas.DataFrame.reset_index.html): I personally find the hierarchical indexes more of a burden than a help, and this sort of hierarchical indexing leads to a fundamentally different experience compared to R dataframes. reset_index() is a way of restoring a dataframe to a flatter index style. Grouping is where you'll notice it the most, but it's also useful when you filter data, and in a few other split-apply-combine workflows. With pandas indexes are more meaningful, so use this if you start getting unexpected results.\n",
    "\n",
    "Indexes are more important in Pandas than in R. If you delve deeper into the using python for data science, you'll begin to see the benefits in many places (despite the personal gripes I highlighted above.) One place these indexes come in handy is with time series data. The pandas docs have a [huge section](http://pandas.pydata.org/pandas-docs/stable/timeseries.html) on datetime indexing. In particular, check out [resample](https://pandas.pydata.org/pandas-docs/stable/generated/pandas.DataFrame.resample.html), which provides time series specific aggregation.\n",
    "\n",
    "[Merging, joining, and concatenation](https://pandas.pydata.org/pandas-docs/stable/merging.html): There's some overlap between these different types of merges, so use this as your guide. Concat is a single function that replaces cbind and rbind in R, and the results are driven by the indexes. Read through these examples to get a feel on how these are performed, but you will have to manage your indexes when you're using these functions. Merges are fairly similar to merges in R, similarly mapping to SQL joins.\n",
    "\n",
    "Apply: This is explained in the \"group by\" section linked above. These are your analogs to the plyr library in R. Take note of the lambda syntax used here, these are anonymous functions in python. Rather than predefining a custom function, you can just define it inline using lambda.\n",
    "\n",
    "Browse through the other sections for some other specifics, in particular reshaping and categorical data (pandas' answer to factors.) Pandas can take a while to get used to, but it is a pretty strong framework that makes more advanced functions easier once you get used to it. Rolling functions for example follow logically from the apply workflow (and led to the best google results ever when I first tried to find this out and googled \"pandas rolling\")\n",
    "\n",
    "Google Wes Mckinney's book \"Python for Data Analysis,\" which is a cookbook style intro to pandas. It's an O'Reilly book that should be pretty available out there.\n",
    "\n",
    "---\n",
    "\n",
    "### Question\n",
    "\n",
    "After a few building collapses, the City of New York is going to begin investigating older buildings for safety. The city is particularly worried about buildings that were unusually tall when they were built, since best-practices for safety hadn’t yet been determined. Create a graph that shows how many buildings of a certain number of floors were built in each year (note: you may want to use a log scale for the number of buildings). Find a strategy to bin buildings (It should be clear 20-29-story buildings, 30-39-story buildings, and 40-49-story buildings were first built in large numbers, but does it make sense to continue in this way as you get taller?)"
   ]
  },
  {
   "cell_type": "code",
   "execution_count": 49,
   "metadata": {},
   "outputs": [
    {
     "name": "stderr",
     "output_type": "stream",
     "text": [
      "C:\\ProgramData\\Anaconda3\\lib\\site-packages\\IPython\\core\\display.py:689: UserWarning:\n\nConsider using IPython.display.IFrame instead\n\n"
     ]
    },
    {
     "data": {
      "text/html": [
       "<iframe id=\"igraph\" scrolling=\"no\" style=\"border:none;\" seamless=\"seamless\" src=\"https://plot.ly/~Learnning/8.embed\" height=\"525px\" width=\"100%\"></iframe>"
      ],
      "text/plain": [
       "<iframe id=\"igraph\" scrolling=\"no\" style=\"border:none;\" seamless=\"seamless\" src=\"https://plot.ly/~Learnning/8.embed\" height=\"525px\" width=\"100%\"></iframe>"
      ]
     },
     "execution_count": 49,
     "metadata": {},
     "output_type": "execute_result"
    }
   ],
   "source": [
    "# Start your answer here, inserting more cells as you go along\n",
    "import matplotlib.pyplot as plt\n",
    "\n",
    "years, floors = ny['YearBuilt'], ny['NumFloors']\n",
    "max_years, min_years = years.max(), years.min()\n",
    "max_floors, min_floors = floors.max(), floors.min()\n",
    "\n",
    "year_linspace = np.linspace(min_years, max_years, 200)\n",
    "floor_logspace = np.logspace(min_floors, max_floors, 200)\n",
    "\n",
    "years_cut = pd.cut(years, year_linspace)\n",
    "floors_cut = pd.cut(floors, floor_logspace)\n",
    "\n",
    "ny2 = ny.groupby([floors_cut, years_cut])['BBL'].count().unstack().fillna(0).values\n",
    "\n",
    "trace = go.Bar(\n",
    "    x=year_linspace,\n",
    "    y=floor_logspace\n",
    ")\n",
    "data = [trace]\n",
    "\n",
    "py.iplot(data, filename='basic-bar')\n"
   ]
  },
  {
   "cell_type": "markdown",
   "metadata": {},
   "source": [
    "## Part 2: Datashader\n",
    "\n",
    "Datashader is a library from Anaconda that does away with the need for binning data. It takes in all of your datapoints, and based on the canvas and range returns a pixel-by-pixel calculations to come up with the best representation of the data. In short, this completely eliminates the need for binning your data.\n",
    "\n",
    "As an example, lets continue with our question above and look at a 2D histogram of YearBuilt vs NumFloors:"
   ]
  },
  {
   "cell_type": "code",
   "execution_count": 6,
   "metadata": {
    "scrolled": false
   },
   "outputs": [
    {
     "data": {
      "text/html": [
       "<iframe id=\"igraph\" scrolling=\"no\" style=\"border:none;\" seamless=\"seamless\" src=\"https://plot.ly/~charleyferrari/3373.embed\" height=\"525px\" width=\"100%\"></iframe>"
      ],
      "text/plain": [
       "<plotly.tools.PlotlyDisplay object>"
      ]
     },
     "execution_count": 6,
     "metadata": {},
     "output_type": "execute_result"
    }
   ],
   "source": [
    "yearbins = 200\n",
    "floorbins = 200\n",
    "\n",
    "yearBuiltCut = pd.cut(ny['YearBuilt'], np.linspace(ny['YearBuilt'].min(), ny['YearBuilt'].max(), yearbins))\n",
    "numFloorsCut = pd.cut(ny['NumFloors'], np.logspace(1, np.log(ny['NumFloors'].max()), floorbins))\n",
    "\n",
    "xlabels = np.floor(np.linspace(ny['YearBuilt'].min(), ny['YearBuilt'].max(), yearbins))\n",
    "ylabels = np.floor(np.logspace(1, np.log(ny['NumFloors'].max()), floorbins))\n",
    "\n",
    "data = [\n",
    "    go.Heatmap(z = ny.groupby([numFloorsCut, yearBuiltCut])['BBL'].count().unstack().fillna(0).values,\n",
    "              colorscale = 'Greens', x = xlabels, y = ylabels)\n",
    "]\n",
    "\n",
    "py.iplot(data, filename = 'datashader-2d-hist')"
   ]
  },
  {
   "cell_type": "markdown",
   "metadata": {},
   "source": [
    "This shows us the distribution, but it's subject to some biases discussed in the Anaconda notebook [Plotting Perils](https://anaconda.org/jbednar/plotting_pitfalls/notebook). \n",
    "\n",
    "Here is what the same plot would look like in datashader:\n",
    "\n"
   ]
  },
  {
   "cell_type": "code",
   "execution_count": 7,
   "metadata": {
    "scrolled": false
   },
   "outputs": [
    {
     "data": {
      "image/png": "[encoded data removed]",
      "text/plain": [
       "<xarray.Image (NumFloors: 500, YearBuilt: 800)>\n",
       "array([[4278190080, 4278190080, 4278190080, ..., 4278190080, 4278190080,\n",
       "        4278190080],\n",
       "       [4278190080, 4278190080, 4278190080, ..., 4278190080, 4278190080,\n",
       "        4278190080],\n",
       "       [4278190080, 4278190080, 4278190080, ..., 4278190080, 4278190080,\n",
       "        4278190080],\n",
       "       ...,\n",
       "       [4278190080, 4278190080, 4278190080, ..., 4278190080, 4278190080,\n",
       "        4278190080],\n",
       "       [4278190080, 4278190080, 4278190080, ..., 4278190080, 4278190080,\n",
       "        4278190080],\n",
       "       [4278190080, 4278190080, 4278190080, ..., 4278190080, 4278190080,\n",
       "        4278190080]], dtype=uint32)\n",
       "Coordinates:\n",
       "  * NumFloors  (NumFloors) float64 0.6185 0.8555 1.093 1.329 1.567 1.804 ...\n",
       "  * YearBuilt  (YearBuilt) float64 1.851e+03 1.851e+03 1.852e+03 1.852e+03 ..."
      ]
     },
     "execution_count": 7,
     "metadata": {},
     "output_type": "execute_result"
    }
   ],
   "source": [
    "cvs = ds.Canvas(800, 500, x_range = (ny['YearBuilt'].min(), ny['YearBuilt'].max()), \n",
    "                                y_range = (ny['NumFloors'].min(), ny['NumFloors'].max()))\n",
    "agg = cvs.points(ny, 'YearBuilt', 'NumFloors')\n",
    "view = tf.shade(agg, cmap = cm(Greys9), how='log')\n",
    "export(tf.spread(view, px=2), 'yearvsnumfloors')"
   ]
  },
  {
   "cell_type": "markdown",
   "metadata": {},
   "source": [
    "That's technically just a scatterplot, but the points are smartly placed and colored to mimic what one gets in a heatmap. Based on the pixel size, it will either display individual points, or will color the points of denser regions.\n",
    "\n",
    "Datashader really shines when looking at geographic information. Here are the latitudes and longitudes of our dataset plotted out, giving us a map of the city colored by density of structures:"
   ]
  },
  {
   "cell_type": "code",
   "execution_count": 58,
   "metadata": {},
   "outputs": [
    {
     "data": {
      "text/html": [
       "<img style=\"margin: auto; border:1px solid\" src='data:image/png;base64,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'/>"
      ],
      "text/plain": [
       "<img style=\"margin: auto; border:1px solid\" src='data:image/png;base64,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'/>"
      ]
     },
     "execution_count": 58,
     "metadata": {},
     "output_type": "execute_result"
    }
   ],
   "source": [
    "NewYorkCity   = (( -74.29,  -73.69), (40.49, 40.92))\n",
    "cvs = ds.Canvas(700, 700, *NewYorkCity)\n",
    "agg = cvs.points(ny, 'lon', 'lat')\n",
    "view = tf.shade(agg, cmap = cm(inferno), how='log')\n",
    "export(tf.spread(view, px=2), 'firery')"
   ]
  },
  {
   "cell_type": "markdown",
   "metadata": {},
   "source": [
    "Interestingly, since we're looking at structures, the large buildings of Manhattan show up as less dense on the map. The densest areas measured by number of lots would be single or multi family townhomes.\n",
    "\n",
    "Unfortunately, Datashader doesn't have the best documentation. Browse through the examples from their [github repo](https://github.com/bokeh/datashader/tree/master/examples). I would focus on the [visualization pipeline](https://anaconda.org/jbednar/pipeline/notebook) and the [US Census](https://anaconda.org/jbednar/census/notebook) Example for the question below. [This talk](https://www.youtube.com/watch?v=6m3CFbKmK_c) also provides a nice background for datashader. Feel free to use my samples as templates as well when you work on this problem.\n",
    "\n",
    "### Question\n",
    "\n",
    "You work for a real estate developer and are researching underbuilt areas of the city. After looking in the [Pluto data dictionary](https://www1.nyc.gov/assets/planning/download/pdf/data-maps/open-data/pluto_datadictionary.pdf?v=17v1_1), you've discovered that all tax assessments consist of two parts: The assessment of the land and assessment of the structure. You reason that there should be a correlation between these two values: more valuable land will have more valuable structures on them (more valuable in this case refers not just to a mansion vs a bungalow, but an apartment tower vs a single family home). Deviations from the norm could represent underbuilt or overbuilt areas of the city. You also recently read a really cool blog post about [bivariate choropleth maps](http://www.joshuastevens.net/cartography/make-a-bivariate-choropleth-map/), and think the technique could be used for this problem.\n",
    "\n",
    "Datashader is really cool, but it's not that great at labeling your visualization. Don't worry about providing a legend, but provide a quick explanation as to which areas of the city are overbuilt, which areas are underbuilt, and which areas are built in a way that's properly correlated with their land value."
   ]
  },
  {
   "cell_type": "code",
   "execution_count": 62,
   "metadata": {},
   "outputs": [
    {
     "data": {
      "text/html": [
       "<img style=\"margin: auto; border:1px solid\" src='data:image/png;base64,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'/>"
      ],
      "text/plain": [
       "<img style=\"margin: auto; border:1px solid\" src='data:image/png;base64,iVBORw0KGgoAAAANSUhEUgAAArwAAAK8CAYAAAANumxDAAANc0lEQVR4nO3WQQ0AIBDAsAP/nkEFIVlaBXtuzcwZAACI2r8DAADgJcMLAECa4QUAIM3wAgCQZngBAEgzvAAApBleAADSDC8AAGmGFwCANMMLAECa4QUAIM3wAgCQZngBAEgzvAAApBleAADSDC8AAGmGFwCANMMLAECa4QUAIM3wAgCQZngBAEgzvAAApBleAADSDC8AAGmGFwCANMMLAECa4QUAIM3wAgCQZngBAEgzvAAApBleAADSDC8AAGmGFwCANMMLAECa4QUAIM3wAgCQZngBAEgzvAAApBleAADSDC8AAGmGFwCANMMLAECa4QUAIM3wAgCQZngBAEgzvAAApBleAADSDC8AAGmGFwCANMMLAECa4QUAIM3wAgCQZngBAEgzvAAApBleAADSDC8AAGmGFwCANMMLAECa4QUAIM3wAgCQZngBAEgzvAAApBleAADSDC8AAGmGFwCANMMLAECa4QUAIM3wAgCQZngBAEgzvAAApBleAADSDC8AAGmGFwCANMMLAECa4QUAIM3wAgCQZngBAEgzvAAApBleAADSDC8AAGmGFwCANMMLAECa4QUAIM3wAgCQZngBAEgzvAAApBleAADSDC8AAGmGFwCANMMLAECa4QUAIM3wAgCQZngBAEgzvAAApBleAADSDC8AAGmGFwCANMMLAECa4QUAIM3wAgCQZngBAEgzvAAApBleAADSDC8AAGmGFwCANMMLAECa4QUAIM3wAgCQZngBAEgzvAAApBleAADSDC8AAGmGFwCANMMLAECa4QUAIM3wAgCQZngBAEgzvAAApBleAADSDC8AAGmGFwCANMMLAECa4QUAIM3wAgCQZngBAEgzvAAApBleAADSDC8AAGmGFwCANMMLAECa4QUAIM3wAgCQZngBAEgzvAAApBleAADSDC8AAGmGFwCANMMLAECa4QUAIM3wAgCQZngBAEgzvAAApBleAADSDC8AAGmGFwCANMMLAECa4QUAIM3wAgCQZngBAEgzvAAApBleAADSDC8AAGmGFwCANMMLAECa4QUAIM3wAgCQZngBAEgzvAAApBleAADSDC8AAGmGFwCANMMLAECa4QUAIM3wAgCQZngBAEgzvAAApBleAADSDC8AAGmGFwCANMMLAECa4QUAIM3wAgCQZngBAEgzvAAApBleAADSDC8AAGmGFwCANMMLAECa4QUAIM3wAgCQZngBAEgzvAAApBleAADSDC8AAGmGFwCANMMLAECa4QUAIM3wAgCQZngBAEgzvAAApBleAADSDC8AAGmGFwCANMMLAECa4QUAIM3wAgCQZngBAEgzvAAApBleAADSDC8AAGmGFwCANMMLAECa4QUAIM3wAgCQZngBAEgzvAAApBleAADSDC8AAGmGFwCANMMLAECa4QUAIM3wAgCQZngBAEgzvAAApBleAADSDC8AAGmGFwCANMMLAECa4QUAIM3wAgCQZngBAEgzvAAApBleAADSDC8AAGmGFwCANMMLAECa4QUAIM3wAgCQZngBAEgzvAAApBleAADSDC8AAGmGFwCANMMLAECa4QUAIM3wAgCQZngBAEgzvAAApBleAADSDC8AAGmGFwCANMMLAECa4QUAIM3wAgCQZngBAEgzvAAApBleAADSDC8AAGmGFwCANMMLAECa4QUAIM3wAgCQZngBAEgzvAAApBleAADSDC8AAGmGFwCANMMLAECa4QUAIM3wAgCQZngBAEgzvAAApBleAADSDC8AAGmGFwCANMMLAECa4QUAIM3wAgCQZngBAEgzvAAApBleAADSDC8AAGmGFwCANMMLAECa4QUAIM3wAgCQZngBAEgzvAAApBleAADSDC8AAGmGFwCANMMLAECa4QUAIM3wAgCQZngBAEgzvAAApBleAADSDC8AAGmGFwCANMMLAECa4QUAIM3wAgCQZngBAEgzvAAApBleAADSDC8AAGmGFwCANMMLAECa4QUAIM3wAgCQZngBAEgzvAAApBleAADSDC8AAGmGFwCANMMLAECa4QUAIM3wAgCQZngBAEgzvAAApBleAADSDC8AAGmGFwCANMMLAECa4QUAIM3wAgCQZngBAEgzvAAApBleAADSDC8AAGmGFwCANMMLAECa4QUAIM3wAgCQZngBAEgzvAAApBleAADSDC8AAGmGFwCANMMLAECa4QUAIM3wAgCQZngBAEgzvAAApBleAADSDC8AAGmGFwCANMMLAECa4QUAIM3wAgCQZngBAEgzvAAApBleAADSDC8AAGmGFwCANMMLAECa4QUAIM3wAgCQZngBAEgzvAAApBleAADSDC8AAGmGFwCANMMLAECa4QUAIM3wAgCQZngBAEgzvAAApBleAADSDC8AAGmGFwCANMMLAECa4QUAIM3wAgCQZngBAEgzvAAApBleAADSDC8AAGmGFwCANMMLAECa4QUAIM3wAgCQZngBAEgzvAAApBleAADSDC8AAGmGFwCANMMLAECa4QUAIM3wAgCQZngBAEgzvAAApBleAADSDC8AAGmGFwCANMMLAECa4QUAIM3wAgCQZngBAEgzvAAApBleAADSDC8AAGmGFwCANMMLAECa4QUAIM3wAgCQZngBAEgzvAAApBleAADSDC8AAGmGFwCANMMLAECa4QUAIM3wAgCQZngBAEgzvAAApBleAADSDC8AAGmGFwCANMMLAECa4QUAIM3wAgCQZngBAEgzvAAApBleAADSDC8AAGmGFwCANMMLAECa4QUAIM3wAgCQZngBAEgzvAAApBleAADSDC8AAGmGFwCANMMLAECa4QUAIM3wAgCQZngBAEgzvAAApBleAADSDC8AAGmGFwCANMMLAECa4QUAIM3wAgCQZngBAEgzvAAApBleAADSDC8AAGmGFwCANMMLAECa4QUAIM3wAgCQZngBAEgzvAAApBleAADSDC8AAGmGFwCANMMLAECa4QUAIM3wAgCQZngBAEgzvAAApBleAADSDC8AAGmGFwCANMMLAECa4QUAIM3wAgCQZngBAEgzvAAApBleAADSDC8AAGmGFwCANMMLAECa4QUAIM3wAgCQZngBAEgzvAAApBleAADSDC8AAGmGFwCANMMLAECa4QUAIM3wAgCQZngBAEgzvAAApBleAADSDC8AAGmGFwCANMMLAECa4QUAIM3wAgCQZngBAEgzvAAApBleAADSDC8AAGmGFwCANMMLAECa4QUAIM3wAgCQZngBAEgzvAAApBleAADSDC8AAGmGFwCANMMLAECa4QUAIM3wAgCQZngBAEgzvAAApBleAADSDC8AAGmGFwCANMMLAECa4QUAIM3wAgCQZngBAEgzvAAApBleAADSDC8AAGmGFwCANMMLAECa4QUAIM3wAgCQZngBAEgzvAAApBleAADSDC8AAGmGFwCANMMLAECa4QUAIM3wAgCQZngBAEgzvAAApBleAADSDC8AAGmGFwCANMMLAECa4QUAIM3wAgCQZngBAEgzvAAApBleAADSDC8AAGmGFwCANMMLAECa4QUAIM3wAgCQZngBAEgzvAAApBleAADSDC8AAGmGFwCANMMLAECa4QUAIM3wAgCQZngBAEgzvAAApBleAADSDC8AAGmGFwCANMMLAECa4QUAIM3wAgCQZngBAEgzvAAApBleAADSDC8AAGmGFwCANMMLAECa4QUAIM3wAgCQZngBAEgzvAAApBleAADSDC8AAGmGFwCANMMLAECa4QUAIM3wAgCQZngBAEgzvAAApBleAADSDC8AAGmGFwCANMMLAECa4QUAIM3wAgCQZngBAEgzvAAApBleAADSDC8AAGmGFwCANMMLAECa4QUAIM3wAgCQZngBAEgzvAAApBleAADSDC8AAGmGFwCANMMLAECa4QUAIM3wAgCQZngBAEgzvAAApBleAADSDC8AAGmGFwCANMMLAECa4QUAIM3wAgCQZngBAEgzvAAApBleAADSDC8AAGmGFwCANMMLAECa4QUAIM3wAgCQZngBAEgzvAAApBleAADSDC8AAGmGFwCANMMLAECa4QUAIM3wAgCQZngBAEgzvAAApBleAADSDC8AAGmGFwCANMMLAECa4QUAIM3wAgCQZngBAEgzvAAApBleAADSDC8AAGmGFwCANMMLAECa4QUAIM3wAgCQZngBAEgzvAAApBleAADSDC8AAGmGFwCANMMLAECa4QUAIM3wAgCQZngBAEgzvAAApBleAADSDC8AAGmGFwCANMMLAECa4QUAIM3wAgCQZngBAEgzvAAApBleAADSDC8AAGmGFwCANMMLAECa4QUAIM3wAgCQZngBAEgzvAAApBleAADSDC8AAGmGFwCANMMLAECa4QUAIM3wAgCQZngBAEgzvAAApBleAADSDC8AAGmGFwCANMMLAECa4QUAIM3wAgCQZngBAEgzvAAApBleAADSDC8AAGmGFwCANMMLAECa4QUAIM3wAgCQZngBAEgzvAAApBleAADSDC8AAGmGFwCANMMLAECa4QUAIM3wAgCQZngBAEgzvAAApBleAADSDC8AAGmGFwCANMMLAECa4QUAIO0CDVQGd32LrQwAAAAASUVORK5CYII='/>"
      ]
     },
     "execution_count": 62,
     "metadata": {},
     "output_type": "execute_result"
    }
   ],
   "source": [
    "cols = ['lon', 'lat', 'AssessTot', 'AssessLand'] \n",
    "ny3 = ny.copy()[cols]\n",
    "ny3['AssessTotNorm'] = (ny3['AssessTot'] - ny3['AssessTot'].min())/(ny3['AssessTot'].max() - ny3['AssessTot'].min())\n",
    "ny3['AssessLandNorm'] = (ny3['AssessLand'] - ny3['AssessLand'].min())/(ny3['AssessLand'].max() - ny3['AssessLand'].min())\n",
    "ny3['LandValRatio'] = ny3['AssessLandNorm']/ny3['AssessTotNorm']\n",
    "ny3 = ny3.drop(['AssessTot', 'AssessLand', 'AssessTotNorm', 'AssessLandNorm'], axis=1)\n",
    "\n",
    "NewYorkCity   = (( -74.29,  -73.69), (40.49, 40.92))\n",
    "cvs = ds.Canvas(700, 700, *NewYorkCity)\n",
    "agg = cvs.points(ny3, 'lon', 'lat', ds.mean('LandValRatio'))\n",
    "view = tf.shade(agg, cmap = cm(inferno), how='log')\n",
    "export(tf.spread(view, px=2), 'firery')\n"
   ]
  },
  {
   "cell_type": "code",
   "execution_count": null,
   "metadata": {},
   "outputs": [],
   "source": []
  }
 ],
 "metadata": {
  "kernelspec": {
   "display_name": "venv3",
   "language": "python",
   "name": "venv3"
  },
  "language_info": {
   "codemirror_mode": {
    "name": "ipython",
    "version": 3
   },
   "file_extension": ".py",
   "mimetype": "text/x-python",
   "name": "python",
   "nbconvert_exporter": "python",
   "pygments_lexer": "ipython3",
   "version": "3.6.5"
  }
 },
 "nbformat": 4,
 "nbformat_minor": 2
}
